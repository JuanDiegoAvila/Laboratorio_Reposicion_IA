{
 "cells": [
  {
   "attachments": {},
   "cell_type": "markdown",
   "metadata": {},
   "source": [
    "# Laboratorio De Reposición"
   ]
  },
  {
   "cell_type": "code",
   "execution_count": 67,
   "metadata": {},
   "outputs": [],
   "source": [
    "import numpy as np\n",
    "from math import *\n",
    "import random as rd\n",
    "import pandas as pd"
   ]
  },
  {
   "attachments": {},
   "cell_type": "markdown",
   "metadata": {},
   "source": [
    "Leer el archivo CSV proporcionado y almacenarlo en un np.array para ser trabajado en el notebook."
   ]
  },
  {
   "cell_type": "code",
   "execution_count": 68,
   "metadata": {},
   "outputs": [],
   "source": [
    "data = pd.read_csv(\"./framingham.csv\")"
   ]
  },
  {
   "attachments": {},
   "cell_type": "markdown",
   "metadata": {},
   "source": [
    "Ajustar un modelo logístico polinomial en base al juego de datos cargado de forma matricial que relaciona las\n",
    "variables independientes que usted considere apropiadas (puede no utilizar todas las componentes de X), con la\n",
    "variable dependiente de salida (sufre o no sufre un paro cardíaco)"
   ]
  },
  {
   "attachments": {},
   "cell_type": "markdown",
   "metadata": {},
   "source": [
    "Para comenzar se va a ver si las variables estan normalizadas.\n"
   ]
  },
  {
   "cell_type": "code",
   "execution_count": 69,
   "metadata": {},
   "outputs": [
    {
     "name": "stdout",
     "output_type": "stream",
     "text": [
      "0    3099\n",
      "1     557\n",
      "Name: TenYearCHD, dtype: int64\n"
     ]
    }
   ],
   "source": [
    "data = data.dropna()\n",
    "print(data[\"TenYearCHD\"].value_counts())"
   ]
  },
  {
   "attachments": {},
   "cell_type": "markdown",
   "metadata": {},
   "source": [
    "Como se puede ver, las variables no estan balanceadas, por lo que se va a hacer oversampling para balancearlas."
   ]
  },
  {
   "cell_type": "code",
   "execution_count": 70,
   "metadata": {},
   "outputs": [
    {
     "name": "stdout",
     "output_type": "stream",
     "text": [
      "0    3099\n",
      "1    3099\n",
      "Name: TenYearCHD, dtype: int64\n"
     ]
    }
   ],
   "source": [
    "from imblearn.over_sampling import RandomOverSampler\n",
    "\n",
    "X = data.drop(\"TenYearCHD\", axis=1)\n",
    "y = data[\"TenYearCHD\"]\n",
    "\n",
    "oversampler = RandomOverSampler()\n",
    "X_resampled, y_resampled = oversampler.fit_resample(X, y)\n",
    "\n",
    "print(y_resampled.value_counts())"
   ]
  },
  {
   "attachments": {},
   "cell_type": "markdown",
   "metadata": {},
   "source": [
    "Se van a normalizar las variables para que no haya problemas con el modelo."
   ]
  },
  {
   "cell_type": "code",
   "execution_count": 71,
   "metadata": {},
   "outputs": [],
   "source": [
    "# Se normalizan los datos utilizando StandardScaler\n",
    "from sklearn.preprocessing import StandardScaler\n",
    "\n",
    "scaler = StandardScaler()\n",
    "scaler.fit(X_resampled)\n",
    "\n",
    "# transformar los datos normalizados\n",
    "X_norm = scaler.transform(X_resampled)\n"
   ]
  },
  {
   "attachments": {},
   "cell_type": "markdown",
   "metadata": {},
   "source": [
    "Ahora con las variables balanceadas, se van a seleccionar las variables que se van a utilizar para el modelo."
   ]
  },
  {
   "cell_type": "code",
   "execution_count": 72,
   "metadata": {},
   "outputs": [
    {
     "name": "stdout",
     "output_type": "stream",
     "text": [
      "Características después del PCA:\n",
      "Index(['male', 'age', 'education', 'currentSmoker', 'cigsPerDay', 'BPMeds',\n",
      "       'prevalentStroke', 'prevalentHyp'],\n",
      "      dtype='object')\n"
     ]
    },
    {
     "name": "stderr",
     "output_type": "stream",
     "text": [
      "c:\\Users\\Juan_Avila\\AppData\\Local\\Programs\\Python\\Python310\\lib\\site-packages\\sklearn\\base.py:450: UserWarning: X does not have valid feature names, but PCA was fitted with feature names\n",
      "  warnings.warn(\n"
     ]
    }
   ],
   "source": [
    "\n",
    "from sklearn.decomposition import PCA\n",
    "\n",
    "n = 8\n",
    "pca = PCA(n_components=n)\n",
    "X_pca = pca.fit_transform(X_resampled)\n",
    "\n",
    "# obtener la matriz de diseño transformada con las mismas columnas que las características originales\n",
    "X_transformed = pca.transform(X_norm)\n",
    "\n",
    "# seleccionar solo las primeras 5 columnas de X_resampled\n",
    "X_resampled_5cols = X_resampled.iloc[:, :n]\n",
    "\n",
    "X_transformed = pd.DataFrame(X_transformed, columns=X_resampled_5cols.columns)\n",
    "\n",
    "\n",
    "# imprimir los nombres de las características después del PCA\n",
    "print(\"Características después del PCA:\")\n",
    "print(X_transformed.columns)"
   ]
  },
  {
   "attachments": {},
   "cell_type": "markdown",
   "metadata": {},
   "source": [
    "Se separan los datos de entrenamiento y de prueba."
   ]
  },
  {
   "cell_type": "code",
   "execution_count": 73,
   "metadata": {},
   "outputs": [],
   "source": [
    "# se separan los datos en entrenamiento y prueba\n",
    "from sklearn.model_selection import train_test_split\n",
    "\n",
    "X_train, X_test, y_train, y_test = train_test_split(X_transformed, y_resampled, test_size=0.2, random_state=0)"
   ]
  },
  {
   "attachments": {},
   "cell_type": "markdown",
   "metadata": {},
   "source": [
    "Se crean las variables de forma polinomial y se ajusta un modelo logístico de regresión."
   ]
  },
  {
   "cell_type": "code",
   "execution_count": 74,
   "metadata": {},
   "outputs": [
    {
     "name": "stdout",
     "output_type": "stream",
     "text": [
      "El polinomio de grado 2  con un accuracy de:  0.6624717650855114\n"
     ]
    }
   ],
   "source": [
    "from sklearn.linear_model import LogisticRegression\n",
    "from sklearn.preprocessing import PolynomialFeatures\n",
    "from sklearn.metrics import r2_score, accuracy_score\n",
    "\n",
    "\n",
    "# se hace grid search para encontrar el mejor grado de polinomio\n",
    "\n",
    "best_accuracy = 0\n",
    "best_degree = 0\n",
    "\n",
    "for degree in range(1, 6):\n",
    "    poly = PolynomialFeatures(degree=degree, include_bias=False)\n",
    "    X_train_poly = poly.fit_transform(X_train)\n",
    "    X_test_poly = poly.fit_transform(X_test)\n",
    "\n",
    "    # ajustar un modelo logístico con características polinomiales\n",
    "    logreg = LogisticRegression(max_iter=10000)\n",
    "    logreg.fit(X_train_poly, y_train)\n",
    "\n",
    "    y_pred = logreg.predict(X_test_poly)\n",
    "    accuracy = accuracy_score(y_test, y_pred)\n",
    "\n",
    "    if accuracy > best_accuracy:\n",
    "        best_accuracy = accuracy\n",
    "        best_degree = degree\n",
    "\n",
    "poly = PolynomialFeatures(degree=best_degree, include_bias=False)\n",
    "X_poly = poly.fit_transform(X_transformed)\n",
    "\n",
    "# ajustar un modelo logístico con características polinomiales\n",
    "logreg = LogisticRegression(max_iter=10000)\n",
    "logreg.fit(X_poly, y_resampled)\n",
    "\n",
    "y_pred = logreg.predict(X_poly)\n",
    "accuracy = accuracy_score(y_resampled, y_pred)\n",
    "\n",
    "print(\"El polinomio de grado\", best_degree,\" con un accuracy de: \", accuracy)"
   ]
  },
  {
   "attachments": {},
   "cell_type": "markdown",
   "metadata": {},
   "source": [
    "Se realiza cross validation para ver que tan bueno es el modelo."
   ]
  },
  {
   "cell_type": "code",
   "execution_count": 75,
   "metadata": {},
   "outputs": [
    {
     "name": "stdout",
     "output_type": "stream",
     "text": [
      "Accuracy: 0.66 (+/- 0.02)\n"
     ]
    }
   ],
   "source": [
    "# Se hace cross validation con el modelo\n",
    "from sklearn.model_selection import cross_val_score\n",
    "\n",
    "scores = cross_val_score(logreg, X_poly, y_resampled, cv=5)\n",
    "print(\"Accuracy: %0.2f (+/- %0.2f)\" % (scores.mean(), scores.std() * 2))"
   ]
  },
  {
   "attachments": {},
   "cell_type": "markdown",
   "metadata": {},
   "source": [
    "# Hallazgos"
   ]
  },
  {
   "attachments": {},
   "cell_type": "markdown",
   "metadata": {},
   "source": [
    "Al elegir la variable objetivo 'TenYearCHD' se encontraron los valores desbalanceados por lo que se tuvo que realizar overfitting para balancear los datos. Se utilizó la librería imblearn para realizar el overfitting.\n",
    "\n",
    "Asimismo, se tuvo que balancear los datos para poder realizar el PCA ya que si no se balancean los datos, el PCA no funciona correctamente y el modelo tampoco va a poder hacer buenas predicciones.\n",
    "\n",
    "Con lo que respecta a las columnas a utilizar se utilizo PCA con 8 columnas pero al alterar ese valor se puede observar que varia el accuracy del modelo.\n",
    "Se utilizó un polinomio de grado 2 para el modelo logístico y se obtuvo un accuracy de 0.66. Al realizar cross validation se obtuvo un accuracy de 0.66.\n",
    "Por ultimo se puede observar que el modelo logístico no es el mejor para este tipo de datos ya que el accuracy es bajo, pero esto puede suceder por la cantidad de variables que se estan utilizando en el PCA y el polinomio elegido. Si se modifican estos valores pueden cambiar los resultados."
   ]
  }
 ],
 "metadata": {
  "kernelspec": {
   "display_name": "Python 3",
   "language": "python",
   "name": "python3"
  },
  "language_info": {
   "codemirror_mode": {
    "name": "ipython",
    "version": 3
   },
   "file_extension": ".py",
   "mimetype": "text/x-python",
   "name": "python",
   "nbconvert_exporter": "python",
   "pygments_lexer": "ipython3",
   "version": "3.10.7"
  },
  "orig_nbformat": 4
 },
 "nbformat": 4,
 "nbformat_minor": 2
}
